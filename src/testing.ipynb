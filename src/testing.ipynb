{
 "cells": [
  {
   "cell_type": "code",
   "execution_count": 1,
   "metadata": {},
   "outputs": [],
   "source": [
    "import pandas as pd\n",
    "import numpy as np\n",
    "from clustering import get_cluster_data, generate_validation_plots\n",
    "from clustering import clustering_experiment, generate_cluster_plots\n",
    "from clustering import generate_component_plots\n",
    "from helpers import get_abspath, save_array\n",
    "from sklearn.decomposition import PCA\n",
    "import matplotlib\n",
    "matplotlib.use('agg')\n",
    "import matplotlib.pyplot as plt\n",
    "import seaborn\n",
    "\n",
    "winepath = get_abspath('winequality.csv', 'data/experiments')\n",
    "seismicpath = get_abspath('seismic_bumps.csv', 'data/experiments')\n",
    "wine = np.loadtxt(winepath, delimiter=',')\n",
    "seismic = np.loadtxt(seismicpath, delimiter=',')\n",
    "\n",
    "# set explained variance threshold\n",
    "evp = 0.85\n",
    "\n",
    "# split data into X and y\n",
    "wX = wine[:, :-1]\n",
    "wY = wine[:, -1]\n",
    "sX = seismic[:, :-1]\n",
    "sY = seismic[:, -1]"
   ]
  },
  {
   "cell_type": "code",
   "execution_count": null,
   "metadata": {},
   "outputs": [],
   "source": []
  }
 ],
 "metadata": {
  "kernelspec": {
   "display_name": "Python 2",
   "language": "python",
   "name": "python2"
  },
  "language_info": {
   "codemirror_mode": {
    "name": "ipython",
    "version": 2
   },
   "file_extension": ".py",
   "mimetype": "text/x-python",
   "name": "python",
   "nbconvert_exporter": "python",
   "pygments_lexer": "ipython2",
   "version": "2.7.12"
  }
 },
 "nbformat": 4,
 "nbformat_minor": 2
}
