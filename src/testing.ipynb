{
 "cells": [
  {
   "cell_type": "code",
   "execution_count": 89,
   "metadata": {},
   "outputs": [],
   "source": [
    "import pandas as pd\n",
    "import numpy as np\n",
    "import timeit\n",
    "from clustering import get_cluster_data, generate_validation_plots\n",
    "from clustering import clustering_experiment, generate_cluster_plots\n",
    "from clustering import generate_component_plots\n",
    "from helpers import get_abspath, save_array\n",
    "from sklearn.ensemble import RandomForestClassifier\n",
    "import matplotlib\n",
    "matplotlib.use('agg')\n",
    "import matplotlib.pyplot as plt\n",
    "import seaborn\n",
    "\n",
    "winepath = get_abspath('winequality.csv', 'data/experiments')\n",
    "seismicpath = get_abspath('seismic_bumps.csv', 'data/experiments')\n",
    "wine = np.loadtxt(winepath, delimiter=',')\n",
    "seismic = np.loadtxt(seismicpath, delimiter=',')\n",
    "\n",
    "# split data into X and y\n",
    "X = wine[:, :-1]\n",
    "y = wine[:, -1]\n",
    "dims = X.shape[1]\n",
    "dims = range(1, dims + 1)"
   ]
  },
  {
   "cell_type": "code",
   "execution_count": 91,
   "metadata": {},
   "outputs": [],
   "source": [
    "rfc = RandomForestClassifier(n_estimators=100, class_weight='balanced', random_state=0)\n",
    "fi = rfc.fit(X, y).feature_importances_\n",
    "\n",
    "i = [i + 1 for i in range(len(fi))]\n",
    "fi = pd.DataFrame({'importance': fi, 'feature': i})\n",
    "fi.sort_values('importance', ascending=False, inplace=True)\n",
    "fi['i'] = i\n",
    "# fi.to_csv('output/dimred/{}_rf_fi.csv'.format(name), index=False)\n"
   ]
  },
  {
   "cell_type": "code",
   "execution_count": 98,
   "metadata": {},
   "outputs": [],
   "source": [
    "fi['cumulative'] = fi['importance'].cumsum()"
   ]
  },
  {
   "cell_type": "code",
   "execution_count": 123,
   "metadata": {},
   "outputs": [
    {
     "data": {
      "text/html": [
       "<div>\n",
       "<style scoped>\n",
       "    .dataframe tbody tr th:only-of-type {\n",
       "        vertical-align: middle;\n",
       "    }\n",
       "\n",
       "    .dataframe tbody tr th {\n",
       "        vertical-align: top;\n",
       "    }\n",
       "\n",
       "    .dataframe thead th {\n",
       "        text-align: right;\n",
       "    }\n",
       "</style>\n",
       "<table border=\"1\" class=\"dataframe\">\n",
       "  <thead>\n",
       "    <tr style=\"text-align: right;\">\n",
       "      <th></th>\n",
       "      <th>feature</th>\n",
       "      <th>importance</th>\n",
       "      <th>i</th>\n",
       "      <th>cumulative</th>\n",
       "    </tr>\n",
       "  </thead>\n",
       "  <tbody>\n",
       "    <tr>\n",
       "      <th>10</th>\n",
       "      <td>11</td>\n",
       "      <td>0.115983</td>\n",
       "      <td>1</td>\n",
       "      <td>0.115983</td>\n",
       "    </tr>\n",
       "    <tr>\n",
       "      <th>7</th>\n",
       "      <td>8</td>\n",
       "      <td>0.106492</td>\n",
       "      <td>2</td>\n",
       "      <td>0.222475</td>\n",
       "    </tr>\n",
       "    <tr>\n",
       "      <th>4</th>\n",
       "      <td>5</td>\n",
       "      <td>0.104439</td>\n",
       "      <td>3</td>\n",
       "      <td>0.326915</td>\n",
       "    </tr>\n",
       "    <tr>\n",
       "      <th>5</th>\n",
       "      <td>6</td>\n",
       "      <td>0.094767</td>\n",
       "      <td>4</td>\n",
       "      <td>0.421682</td>\n",
       "    </tr>\n",
       "    <tr>\n",
       "      <th>1</th>\n",
       "      <td>2</td>\n",
       "      <td>0.090789</td>\n",
       "      <td>5</td>\n",
       "      <td>0.512470</td>\n",
       "    </tr>\n",
       "    <tr>\n",
       "      <th>0</th>\n",
       "      <td>1</td>\n",
       "      <td>0.089407</td>\n",
       "      <td>6</td>\n",
       "      <td>0.601877</td>\n",
       "    </tr>\n",
       "    <tr>\n",
       "      <th>6</th>\n",
       "      <td>7</td>\n",
       "      <td>0.088853</td>\n",
       "      <td>7</td>\n",
       "      <td>0.690730</td>\n",
       "    </tr>\n",
       "    <tr>\n",
       "      <th>8</th>\n",
       "      <td>9</td>\n",
       "      <td>0.082548</td>\n",
       "      <td>8</td>\n",
       "      <td>0.773278</td>\n",
       "    </tr>\n",
       "    <tr>\n",
       "      <th>3</th>\n",
       "      <td>4</td>\n",
       "      <td>0.080323</td>\n",
       "      <td>9</td>\n",
       "      <td>0.853601</td>\n",
       "    </tr>\n",
       "  </tbody>\n",
       "</table>\n",
       "</div>"
      ],
      "text/plain": [
       "    feature  importance  i  cumulative\n",
       "10       11    0.115983  1    0.115983\n",
       "7         8    0.106492  2    0.222475\n",
       "4         5    0.104439  3    0.326915\n",
       "5         6    0.094767  4    0.421682\n",
       "1         2    0.090789  5    0.512470\n",
       "0         1    0.089407  6    0.601877\n",
       "6         7    0.088853  7    0.690730\n",
       "8         9    0.082548  8    0.773278\n",
       "3         4    0.080323  9    0.853601"
      ]
     },
     "execution_count": 123,
     "metadata": {},
     "output_type": "execute_result"
    }
   ],
   "source": [
    "theta = 0.8\n",
    "cumfi = fi['importance'].cumsum()\n",
    "fi.loc[:cumfi.where(cumfi > theta).idxmin(), :]"
   ]
  },
  {
   "cell_type": "code",
   "execution_count": 138,
   "metadata": {},
   "outputs": [],
   "source": [
    "idxs = fi.loc[:cumfi.where(cumfi > theta).idxmin(), :]\n"
   ]
  },
  {
   "cell_type": "code",
   "execution_count": 141,
   "metadata": {},
   "outputs": [
    {
     "data": {
      "text/plain": [
       "[10, 7, 4, 5, 1, 0, 6, 8, 3]"
      ]
     },
     "execution_count": 141,
     "metadata": {},
     "output_type": "execute_result"
    }
   ],
   "source": [
    "list(idxs.index)"
   ]
  },
  {
   "cell_type": "code",
   "execution_count": 118,
   "metadata": {},
   "outputs": [
    {
     "data": {
      "text/plain": [
       "0.8"
      ]
     },
     "execution_count": 118,
     "metadata": {},
     "output_type": "execute_result"
    }
   ],
   "source": [
    "theta"
   ]
  },
  {
   "cell_type": "code",
   "execution_count": null,
   "metadata": {},
   "outputs": [],
   "source": []
  }
 ],
 "metadata": {
  "kernelspec": {
   "display_name": "Python 2",
   "language": "python",
   "name": "python2"
  },
  "language_info": {
   "codemirror_mode": {
    "name": "ipython",
    "version": 2
   },
   "file_extension": ".py",
   "mimetype": "text/x-python",
   "name": "python",
   "nbconvert_exporter": "python",
   "pygments_lexer": "ipython2",
   "version": "2.7.12"
  }
 },
 "nbformat": 4,
 "nbformat_minor": 2
}
